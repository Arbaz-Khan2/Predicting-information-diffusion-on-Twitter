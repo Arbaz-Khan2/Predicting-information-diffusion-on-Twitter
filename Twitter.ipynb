{
 "cells": [
  {
   "cell_type": "code",
   "execution_count": 2,
   "id": "8dc4205b",
   "metadata": {},
   "outputs": [],
   "source": [
    "import pandas as pd\n",
    "from datetime import date\n",
    "import holidays\n",
    "import datetime\n",
    "from sklearn.model_selection import train_test_split\n",
    "from sklearn.ensemble import RandomForestClassifier\n",
    "from sklearn.metrics import mean_squared_error, accuracy_score\n",
    "from sklearn.model_selection import cross_val_score"
   ]
  },
  {
   "cell_type": "code",
   "execution_count": 3,
   "id": "4ed5fa9f",
   "metadata": {},
   "outputs": [
    {
     "name": "stdout",
     "output_type": "stream",
     "text": [
      "   Unnamed: 0                                           _api  \\\n",
      "0           0  <tweepy.api.API object at 0x000001B2F27B1480>   \n",
      "1           1  <tweepy.api.API object at 0x000001B2F27B1480>   \n",
      "2           2  <tweepy.api.API object at 0x000001B2F27B1480>   \n",
      "3           3  <tweepy.api.API object at 0x000001B2F27B1480>   \n",
      "4           4  <tweepy.api.API object at 0x000001B2F27B1480>   \n",
      "\n",
      "                                               _json  \\\n",
      "0  {'created_at': 'Tue Dec 27 08:57:41 +0000 2022...   \n",
      "1  {'created_at': 'Tue Dec 27 08:49:02 +0000 2022...   \n",
      "2  {'created_at': 'Tue Dec 27 08:33:58 +0000 2022...   \n",
      "3  {'created_at': 'Tue Dec 27 08:24:06 +0000 2022...   \n",
      "4  {'created_at': 'Tue Dec 27 08:23:02 +0000 2022...   \n",
      "\n",
      "                  created_at                   id               id_str  \\\n",
      "0  2022-12-27 08:57:41+00:00  1607661988594995201  1607661988594995201   \n",
      "1  2022-12-27 08:49:02+00:00  1607659811755200512  1607659811755200512   \n",
      "2  2022-12-27 08:33:58+00:00  1607656017860648960  1607656017860648960   \n",
      "3  2022-12-27 08:24:06+00:00  1607653537567363079  1607653537567363079   \n",
      "4  2022-12-27 08:23:02+00:00  1607653266091044866  1607653266091044866   \n",
      "\n",
      "                                           full_text  truncated  \\\n",
      "0  RT @Nadirbalochs: Updates From Gawader Protest...      False   \n",
      "1  RT @Nadirbalochs: Updates From Gawader Protest...      False   \n",
      "2  انتظامیہ کا رویہ شرمناک ہے۔ حالات کی ذمہ داری ...      False   \n",
      "3  The #CPEC is going to enable #China to effecti...      False   \n",
      "4  @RadioPakistan @ndmapk @AmbNong Keen to enhanc...      False   \n",
      "\n",
      "  display_text_range                                           entities  ...  \\\n",
      "0           [0, 140]  {'hashtags': [{'text': 'Balochistan', 'indices...  ...   \n",
      "1           [0, 140]  {'hashtags': [{'text': 'Balochistan', 'indices...  ...   \n",
      "2           [0, 277]  {'hashtags': [{'text': 'Guwader', 'indices': [...  ...   \n",
      "3           [0, 102]  {'hashtags': [{'text': 'CPEC', 'indices': [4, ...  ...   \n",
      "4          [32, 319]  {'hashtags': [{'text': 'COAS', 'indices': [117...  ...   \n",
      "\n",
      "  favorite_count favorited retweeted  lang  \\\n",
      "0              0     False     False    en   \n",
      "1              0     False     False    en   \n",
      "2              4     False     False    ur   \n",
      "3              0     False     False    en   \n",
      "4              0     False     False    en   \n",
      "\n",
      "                                   extended_entities  possibly_sensitive  \\\n",
      "0                                                NaN                 NaN   \n",
      "1                                                NaN                 NaN   \n",
      "2  {'media': [{'id': 1607655928475566080, 'id_str...               False   \n",
      "3  {'media': [{'id': 1607653533440151552, 'id_str...               False   \n",
      "4                                                NaN                 NaN   \n",
      "\n",
      "   quoted_status_id quoted_status_id_str quoted_status withheld_in_countries  \n",
      "0               NaN                  NaN           NaN                   NaN  \n",
      "1               NaN                  NaN           NaN                   NaN  \n",
      "2               NaN                  NaN           NaN                   NaN  \n",
      "3               NaN                  NaN           NaN                   NaN  \n",
      "4               NaN                  NaN           NaN                   NaN  \n",
      "\n",
      "[5 rows x 37 columns]\n"
     ]
    }
   ],
   "source": [
    "df = pd.read_csv('data.csv')\n",
    "print(df.head(5))"
   ]
  },
  {
   "cell_type": "code",
   "execution_count": 220,
   "id": "714d107a",
   "metadata": {},
   "outputs": [],
   "source": [
    "def author(row):\n",
    "    str1 = row\n",
    "    str1 = str1[str1.find(\"id=\",1):][:str1.find(\"lang\", 1)][:-2]\n",
    "    keys_list = [\"id\", \"id_str\", \"name\", \"screen_name\", \"location\", \"description\", \"url\", \"entities\", \"protected\", \"followers_count\", \"friends_count\", \"listed_count\", \"created_at\", \"favourites_count\", \"utc_offset\", \"time_zone\", \"geo_enabled\", \"verified\", \"statuses_count\", \"lang\", \"contributors_enabled\"]\n",
    "    lis = []\n",
    "    for i in range(len(keys_list)-1):\n",
    "        lis.append(str1[str1.find(keys_list[i])+len(keys_list[i])+1: str1.find(keys_list[i+1])-2])\n",
    "    return lis"
   ]
  },
  {
   "cell_type": "code",
   "execution_count": 221,
   "id": "1a7795ac",
   "metadata": {},
   "outputs": [],
   "source": [
    "df1 = pd.DataFrame(columns=[\"author_id\", \"author_id_str\", \"author_name\", \"author_screen_name\", \"author_location\", \"author_description\", \"author_url\", \"author_entities\", \"author_protected\", \"author_followers_count\", \"author_friends_count\", \"author_listed_count\", \"author_created_at\", \"author_favourites_count\", \"author_utc_offset\", \"author_time_zone\", \"author_geo_enabled\", \"author_verified\", \"author_statuses_count\", \"author_lang\"])\n",
    "for i in range(len(df)):\n",
    "    df1.loc[len(df1)] = author(df['author'][i])"
   ]
  },
  {
   "cell_type": "code",
   "execution_count": 294,
   "id": "0ddfd06b",
   "metadata": {},
   "outputs": [
    {
     "data": {
      "text/html": [
       "<div>\n",
       "<style scoped>\n",
       "    .dataframe tbody tr th:only-of-type {\n",
       "        vertical-align: middle;\n",
       "    }\n",
       "\n",
       "    .dataframe tbody tr th {\n",
       "        vertical-align: top;\n",
       "    }\n",
       "\n",
       "    .dataframe thead th {\n",
       "        text-align: right;\n",
       "    }\n",
       "</style>\n",
       "<table border=\"1\" class=\"dataframe\">\n",
       "  <thead>\n",
       "    <tr style=\"text-align: right;\">\n",
       "      <th></th>\n",
       "      <th>author_id</th>\n",
       "      <th>author_id_str</th>\n",
       "      <th>author_name</th>\n",
       "      <th>author_screen_name</th>\n",
       "      <th>author_location</th>\n",
       "      <th>author_description</th>\n",
       "      <th>author_url</th>\n",
       "      <th>author_entities</th>\n",
       "      <th>author_protected</th>\n",
       "      <th>author_followers_count</th>\n",
       "      <th>author_friends_count</th>\n",
       "      <th>author_listed_count</th>\n",
       "      <th>author_created_at</th>\n",
       "      <th>author_favourites_count</th>\n",
       "      <th>author_utc_offset</th>\n",
       "      <th>author_time_zone</th>\n",
       "      <th>author_geo_enabled</th>\n",
       "      <th>author_verified</th>\n",
       "      <th>author_statuses_count</th>\n",
       "      <th>author_lang</th>\n",
       "    </tr>\n",
       "  </thead>\n",
       "  <tbody>\n",
       "    <tr>\n",
       "      <th>0</th>\n",
       "      <td>1526591921833005058</td>\n",
       "      <td>'1526591921833005058'</td>\n",
       "      <td>'Benjimen Baluch'</td>\n",
       "      <td>'BaluchBenjimen'</td>\n",
       "      <td>''</td>\n",
       "      <td>'My Mission 🤝🏽🤝🏽. old one=suspended. (Baluch,B...</td>\n",
       "      <td>None</td>\n",
       "      <td>{'description': {'urls': []}}</td>\n",
       "      <td>False</td>\n",
       "      <td>865</td>\n",
       "      <td>92</td>\n",
       "      <td>1</td>\n",
       "      <td>datetime.datetime(2022, 5, 17, 15, 54, 58, tzi...</td>\n",
       "      <td>5777</td>\n",
       "      <td>None</td>\n",
       "      <td>None</td>\n",
       "      <td>False</td>\n",
       "      <td>False</td>\n",
       "      <td>19933</td>\n",
       "      <td>None</td>\n",
       "    </tr>\n",
       "    <tr>\n",
       "      <th>1</th>\n",
       "      <td>895221632880566272</td>\n",
       "      <td>'895221632880566272'</td>\n",
       "      <td>'nisar ahmad'</td>\n",
       "      <td>'sirhammal'</td>\n",
       "      <td>'Balochistan'</td>\n",
       "      <td>''</td>\n",
       "      <td>None</td>\n",
       "      <td>{'description': {'urls': []}}</td>\n",
       "      <td>False</td>\n",
       "      <td>44</td>\n",
       "      <td>61</td>\n",
       "      <td>0</td>\n",
       "      <td>datetime.datetime(2017, 8, 9, 9, 54, 4, tzinfo...</td>\n",
       "      <td>6537</td>\n",
       "      <td>None</td>\n",
       "      <td>None</td>\n",
       "      <td>False</td>\n",
       "      <td>False</td>\n",
       "      <td>629</td>\n",
       "      <td>None</td>\n",
       "    </tr>\n",
       "    <tr>\n",
       "      <th>2</th>\n",
       "      <td>1166720360051613696</td>\n",
       "      <td>'1166720360051613696'</td>\n",
       "      <td>'ÁMÈĒÑ BáLôÇH'</td>\n",
       "      <td>'AmeenBa32100460'</td>\n",
       "      <td>''</td>\n",
       "      <td>'#Politics is power, Student of political scie...</td>\n",
       "      <td>None</td>\n",
       "      <td>{'description': {'urls': []}}</td>\n",
       "      <td>False</td>\n",
       "      <td>432</td>\n",
       "      <td>559</td>\n",
       "      <td>0</td>\n",
       "      <td>datetime.datetime(2019, 8, 28, 14, 33, 34, tzi...</td>\n",
       "      <td>4541</td>\n",
       "      <td>None</td>\n",
       "      <td>None</td>\n",
       "      <td>False</td>\n",
       "      <td>False</td>\n",
       "      <td>2000</td>\n",
       "      <td>None</td>\n",
       "    </tr>\n",
       "    <tr>\n",
       "      <th>3</th>\n",
       "      <td>1526641166598279168</td>\n",
       "      <td>'1526641166598279168'</td>\n",
       "      <td>'Tamanna Abrol'</td>\n",
       "      <td>'tamanna_abrol'</td>\n",
       "      <td>''</td>\n",
       "      <td>''</td>\n",
       "      <td>None</td>\n",
       "      <td>{'description': {'urls': []}}</td>\n",
       "      <td>False</td>\n",
       "      <td>5</td>\n",
       "      <td>151</td>\n",
       "      <td>0</td>\n",
       "      <td>datetime.datetime(2022, 5, 17, 19, 10, 1, tzin...</td>\n",
       "      <td>27</td>\n",
       "      <td>None</td>\n",
       "      <td>None</td>\n",
       "      <td>False</td>\n",
       "      <td>False</td>\n",
       "      <td>481</td>\n",
       "      <td>None</td>\n",
       "    </tr>\n",
       "    <tr>\n",
       "      <th>4</th>\n",
       "      <td>427595041</td>\n",
       "      <td>'427595041'</td>\n",
       "      <td>'Farrukh Abbas Hashmi'</td>\n",
       "      <td>'Redgold5'</td>\n",
       "      <td>'FATA, KPK, Northern  Pakistan.'</td>\n",
       "      <td>'Agriculturalist,Businessman &amp; Politician. liv...</td>\n",
       "      <td>None</td>\n",
       "      <td>{'description': {'urls': []}}</td>\n",
       "      <td>False</td>\n",
       "      <td>58</td>\n",
       "      <td>40</td>\n",
       "      <td>0</td>\n",
       "      <td>datetime.datetime(2011, 12, 3, 18, 36, 49, tzi...</td>\n",
       "      <td>128</td>\n",
       "      <td>None</td>\n",
       "      <td>None</td>\n",
       "      <td>True</td>\n",
       "      <td>False</td>\n",
       "      <td>4080</td>\n",
       "      <td>None</td>\n",
       "    </tr>\n",
       "  </tbody>\n",
       "</table>\n",
       "</div>"
      ],
      "text/plain": [
       "             author_id          author_id_str             author_name  \\\n",
       "0  1526591921833005058  '1526591921833005058'       'Benjimen Baluch'   \n",
       "1   895221632880566272   '895221632880566272'           'nisar ahmad'   \n",
       "2  1166720360051613696  '1166720360051613696'          'ÁMÈĒÑ BáLôÇH'   \n",
       "3  1526641166598279168  '1526641166598279168'         'Tamanna Abrol'   \n",
       "4            427595041            '427595041'  'Farrukh Abbas Hashmi'   \n",
       "\n",
       "  author_screen_name                   author_location  \\\n",
       "0   'BaluchBenjimen'                                ''   \n",
       "1        'sirhammal'                     'Balochistan'   \n",
       "2  'AmeenBa32100460'                                ''   \n",
       "3    'tamanna_abrol'                                ''   \n",
       "4         'Redgold5'  'FATA, KPK, Northern  Pakistan.'   \n",
       "\n",
       "                                  author_description author_url  \\\n",
       "0  'My Mission 🤝🏽🤝🏽. old one=suspended. (Baluch,B...       None   \n",
       "1                                                 ''       None   \n",
       "2  '#Politics is power, Student of political scie...       None   \n",
       "3                                                 ''       None   \n",
       "4  'Agriculturalist,Businessman & Politician. liv...       None   \n",
       "\n",
       "                 author_entities author_protected author_followers_count  \\\n",
       "0  {'description': {'urls': []}}            False                    865   \n",
       "1  {'description': {'urls': []}}            False                     44   \n",
       "2  {'description': {'urls': []}}            False                    432   \n",
       "3  {'description': {'urls': []}}            False                      5   \n",
       "4  {'description': {'urls': []}}            False                     58   \n",
       "\n",
       "  author_friends_count author_listed_count  \\\n",
       "0                   92                   1   \n",
       "1                   61                   0   \n",
       "2                  559                   0   \n",
       "3                  151                   0   \n",
       "4                   40                   0   \n",
       "\n",
       "                                   author_created_at author_favourites_count  \\\n",
       "0  datetime.datetime(2022, 5, 17, 15, 54, 58, tzi...                    5777   \n",
       "1  datetime.datetime(2017, 8, 9, 9, 54, 4, tzinfo...                    6537   \n",
       "2  datetime.datetime(2019, 8, 28, 14, 33, 34, tzi...                    4541   \n",
       "3  datetime.datetime(2022, 5, 17, 19, 10, 1, tzin...                      27   \n",
       "4  datetime.datetime(2011, 12, 3, 18, 36, 49, tzi...                     128   \n",
       "\n",
       "  author_utc_offset author_time_zone author_geo_enabled author_verified  \\\n",
       "0              None             None              False           False   \n",
       "1              None             None              False           False   \n",
       "2              None             None              False           False   \n",
       "3              None             None              False           False   \n",
       "4              None             None               True           False   \n",
       "\n",
       "  author_statuses_count author_lang  \n",
       "0                 19933        None  \n",
       "1                   629        None  \n",
       "2                  2000        None  \n",
       "3                   481        None  \n",
       "4                  4080        None  "
      ]
     },
     "execution_count": 294,
     "metadata": {},
     "output_type": "execute_result"
    }
   ],
   "source": [
    "df1.head(5)"
   ]
  },
  {
   "cell_type": "code",
   "execution_count": 223,
   "id": "36c19cf1",
   "metadata": {},
   "outputs": [],
   "source": [
    "result = pd.concat([df, df1], axis=1, join='inner')"
   ]
  },
  {
   "cell_type": "code",
   "execution_count": 295,
   "id": "ebb1ffcf",
   "metadata": {},
   "outputs": [
    {
     "data": {
      "text/html": [
       "<div>\n",
       "<style scoped>\n",
       "    .dataframe tbody tr th:only-of-type {\n",
       "        vertical-align: middle;\n",
       "    }\n",
       "\n",
       "    .dataframe tbody tr th {\n",
       "        vertical-align: top;\n",
       "    }\n",
       "\n",
       "    .dataframe thead th {\n",
       "        text-align: right;\n",
       "    }\n",
       "</style>\n",
       "<table border=\"1\" class=\"dataframe\">\n",
       "  <thead>\n",
       "    <tr style=\"text-align: right;\">\n",
       "      <th></th>\n",
       "      <th>Unnamed: 0</th>\n",
       "      <th>_api</th>\n",
       "      <th>_json</th>\n",
       "      <th>created_at</th>\n",
       "      <th>id</th>\n",
       "      <th>id_str</th>\n",
       "      <th>full_text</th>\n",
       "      <th>truncated</th>\n",
       "      <th>display_text_range</th>\n",
       "      <th>entities</th>\n",
       "      <th>...</th>\n",
       "      <th>author_friends_count</th>\n",
       "      <th>author_listed_count</th>\n",
       "      <th>author_created_at</th>\n",
       "      <th>author_favourites_count</th>\n",
       "      <th>author_utc_offset</th>\n",
       "      <th>author_time_zone</th>\n",
       "      <th>author_geo_enabled</th>\n",
       "      <th>author_verified</th>\n",
       "      <th>author_statuses_count</th>\n",
       "      <th>author_lang</th>\n",
       "    </tr>\n",
       "  </thead>\n",
       "  <tbody>\n",
       "    <tr>\n",
       "      <th>0</th>\n",
       "      <td>0</td>\n",
       "      <td>&lt;tweepy.api.API object at 0x000001B2F27B1480&gt;</td>\n",
       "      <td>{'created_at': 'Tue Dec 27 08:57:41 +0000 2022...</td>\n",
       "      <td>2022-12-27 08:57:41+00:00</td>\n",
       "      <td>1607661988594995201</td>\n",
       "      <td>1607661988594995201</td>\n",
       "      <td>RT @Nadirbalochs: Updates From Gawader Protest...</td>\n",
       "      <td>False</td>\n",
       "      <td>[0, 140]</td>\n",
       "      <td>{'hashtags': [{'text': 'Balochistan', 'indices...</td>\n",
       "      <td>...</td>\n",
       "      <td>92</td>\n",
       "      <td>1</td>\n",
       "      <td>datetime.datetime(2022, 5, 17, 15, 54, 58, tzi...</td>\n",
       "      <td>5777</td>\n",
       "      <td>None</td>\n",
       "      <td>None</td>\n",
       "      <td>False</td>\n",
       "      <td>False</td>\n",
       "      <td>19933</td>\n",
       "      <td>None</td>\n",
       "    </tr>\n",
       "    <tr>\n",
       "      <th>1</th>\n",
       "      <td>1</td>\n",
       "      <td>&lt;tweepy.api.API object at 0x000001B2F27B1480&gt;</td>\n",
       "      <td>{'created_at': 'Tue Dec 27 08:49:02 +0000 2022...</td>\n",
       "      <td>2022-12-27 08:49:02+00:00</td>\n",
       "      <td>1607659811755200512</td>\n",
       "      <td>1607659811755200512</td>\n",
       "      <td>RT @Nadirbalochs: Updates From Gawader Protest...</td>\n",
       "      <td>False</td>\n",
       "      <td>[0, 140]</td>\n",
       "      <td>{'hashtags': [{'text': 'Balochistan', 'indices...</td>\n",
       "      <td>...</td>\n",
       "      <td>61</td>\n",
       "      <td>0</td>\n",
       "      <td>datetime.datetime(2017, 8, 9, 9, 54, 4, tzinfo...</td>\n",
       "      <td>6537</td>\n",
       "      <td>None</td>\n",
       "      <td>None</td>\n",
       "      <td>False</td>\n",
       "      <td>False</td>\n",
       "      <td>629</td>\n",
       "      <td>None</td>\n",
       "    </tr>\n",
       "    <tr>\n",
       "      <th>2</th>\n",
       "      <td>2</td>\n",
       "      <td>&lt;tweepy.api.API object at 0x000001B2F27B1480&gt;</td>\n",
       "      <td>{'created_at': 'Tue Dec 27 08:33:58 +0000 2022...</td>\n",
       "      <td>2022-12-27 08:33:58+00:00</td>\n",
       "      <td>1607656017860648960</td>\n",
       "      <td>1607656017860648960</td>\n",
       "      <td>انتظامیہ کا رویہ شرمناک ہے۔ حالات کی ذمہ داری ...</td>\n",
       "      <td>False</td>\n",
       "      <td>[0, 277]</td>\n",
       "      <td>{'hashtags': [{'text': 'Guwader', 'indices': [...</td>\n",
       "      <td>...</td>\n",
       "      <td>559</td>\n",
       "      <td>0</td>\n",
       "      <td>datetime.datetime(2019, 8, 28, 14, 33, 34, tzi...</td>\n",
       "      <td>4541</td>\n",
       "      <td>None</td>\n",
       "      <td>None</td>\n",
       "      <td>False</td>\n",
       "      <td>False</td>\n",
       "      <td>2000</td>\n",
       "      <td>None</td>\n",
       "    </tr>\n",
       "    <tr>\n",
       "      <th>3</th>\n",
       "      <td>3</td>\n",
       "      <td>&lt;tweepy.api.API object at 0x000001B2F27B1480&gt;</td>\n",
       "      <td>{'created_at': 'Tue Dec 27 08:24:06 +0000 2022...</td>\n",
       "      <td>2022-12-27 08:24:06+00:00</td>\n",
       "      <td>1607653537567363079</td>\n",
       "      <td>1607653537567363079</td>\n",
       "      <td>The #CPEC is going to enable #China to effecti...</td>\n",
       "      <td>False</td>\n",
       "      <td>[0, 102]</td>\n",
       "      <td>{'hashtags': [{'text': 'CPEC', 'indices': [4, ...</td>\n",
       "      <td>...</td>\n",
       "      <td>151</td>\n",
       "      <td>0</td>\n",
       "      <td>datetime.datetime(2022, 5, 17, 19, 10, 1, tzin...</td>\n",
       "      <td>27</td>\n",
       "      <td>None</td>\n",
       "      <td>None</td>\n",
       "      <td>False</td>\n",
       "      <td>False</td>\n",
       "      <td>481</td>\n",
       "      <td>None</td>\n",
       "    </tr>\n",
       "    <tr>\n",
       "      <th>4</th>\n",
       "      <td>4</td>\n",
       "      <td>&lt;tweepy.api.API object at 0x000001B2F27B1480&gt;</td>\n",
       "      <td>{'created_at': 'Tue Dec 27 08:23:02 +0000 2022...</td>\n",
       "      <td>2022-12-27 08:23:02+00:00</td>\n",
       "      <td>1607653266091044866</td>\n",
       "      <td>1607653266091044866</td>\n",
       "      <td>@RadioPakistan @ndmapk @AmbNong Keen to enhanc...</td>\n",
       "      <td>False</td>\n",
       "      <td>[32, 319]</td>\n",
       "      <td>{'hashtags': [{'text': 'COAS', 'indices': [117...</td>\n",
       "      <td>...</td>\n",
       "      <td>40</td>\n",
       "      <td>0</td>\n",
       "      <td>datetime.datetime(2011, 12, 3, 18, 36, 49, tzi...</td>\n",
       "      <td>128</td>\n",
       "      <td>None</td>\n",
       "      <td>None</td>\n",
       "      <td>True</td>\n",
       "      <td>False</td>\n",
       "      <td>4080</td>\n",
       "      <td>None</td>\n",
       "    </tr>\n",
       "  </tbody>\n",
       "</table>\n",
       "<p>5 rows × 57 columns</p>\n",
       "</div>"
      ],
      "text/plain": [
       "   Unnamed: 0                                           _api  \\\n",
       "0           0  <tweepy.api.API object at 0x000001B2F27B1480>   \n",
       "1           1  <tweepy.api.API object at 0x000001B2F27B1480>   \n",
       "2           2  <tweepy.api.API object at 0x000001B2F27B1480>   \n",
       "3           3  <tweepy.api.API object at 0x000001B2F27B1480>   \n",
       "4           4  <tweepy.api.API object at 0x000001B2F27B1480>   \n",
       "\n",
       "                                               _json  \\\n",
       "0  {'created_at': 'Tue Dec 27 08:57:41 +0000 2022...   \n",
       "1  {'created_at': 'Tue Dec 27 08:49:02 +0000 2022...   \n",
       "2  {'created_at': 'Tue Dec 27 08:33:58 +0000 2022...   \n",
       "3  {'created_at': 'Tue Dec 27 08:24:06 +0000 2022...   \n",
       "4  {'created_at': 'Tue Dec 27 08:23:02 +0000 2022...   \n",
       "\n",
       "                  created_at                   id               id_str  \\\n",
       "0  2022-12-27 08:57:41+00:00  1607661988594995201  1607661988594995201   \n",
       "1  2022-12-27 08:49:02+00:00  1607659811755200512  1607659811755200512   \n",
       "2  2022-12-27 08:33:58+00:00  1607656017860648960  1607656017860648960   \n",
       "3  2022-12-27 08:24:06+00:00  1607653537567363079  1607653537567363079   \n",
       "4  2022-12-27 08:23:02+00:00  1607653266091044866  1607653266091044866   \n",
       "\n",
       "                                           full_text  truncated  \\\n",
       "0  RT @Nadirbalochs: Updates From Gawader Protest...      False   \n",
       "1  RT @Nadirbalochs: Updates From Gawader Protest...      False   \n",
       "2  انتظامیہ کا رویہ شرمناک ہے۔ حالات کی ذمہ داری ...      False   \n",
       "3  The #CPEC is going to enable #China to effecti...      False   \n",
       "4  @RadioPakistan @ndmapk @AmbNong Keen to enhanc...      False   \n",
       "\n",
       "  display_text_range                                           entities  ...  \\\n",
       "0           [0, 140]  {'hashtags': [{'text': 'Balochistan', 'indices...  ...   \n",
       "1           [0, 140]  {'hashtags': [{'text': 'Balochistan', 'indices...  ...   \n",
       "2           [0, 277]  {'hashtags': [{'text': 'Guwader', 'indices': [...  ...   \n",
       "3           [0, 102]  {'hashtags': [{'text': 'CPEC', 'indices': [4, ...  ...   \n",
       "4          [32, 319]  {'hashtags': [{'text': 'COAS', 'indices': [117...  ...   \n",
       "\n",
       "  author_friends_count author_listed_count  \\\n",
       "0                   92                   1   \n",
       "1                   61                   0   \n",
       "2                  559                   0   \n",
       "3                  151                   0   \n",
       "4                   40                   0   \n",
       "\n",
       "                                   author_created_at  author_favourites_count  \\\n",
       "0  datetime.datetime(2022, 5, 17, 15, 54, 58, tzi...                     5777   \n",
       "1  datetime.datetime(2017, 8, 9, 9, 54, 4, tzinfo...                     6537   \n",
       "2  datetime.datetime(2019, 8, 28, 14, 33, 34, tzi...                     4541   \n",
       "3  datetime.datetime(2022, 5, 17, 19, 10, 1, tzin...                       27   \n",
       "4  datetime.datetime(2011, 12, 3, 18, 36, 49, tzi...                      128   \n",
       "\n",
       "   author_utc_offset  author_time_zone  author_geo_enabled author_verified  \\\n",
       "0               None              None               False           False   \n",
       "1               None              None               False           False   \n",
       "2               None              None               False           False   \n",
       "3               None              None               False           False   \n",
       "4               None              None                True           False   \n",
       "\n",
       "  author_statuses_count author_lang  \n",
       "0                 19933        None  \n",
       "1                   629        None  \n",
       "2                  2000        None  \n",
       "3                   481        None  \n",
       "4                  4080        None  \n",
       "\n",
       "[5 rows x 57 columns]"
      ]
     },
     "execution_count": 295,
     "metadata": {},
     "output_type": "execute_result"
    }
   ],
   "source": [
    "result.head(5)"
   ]
  },
  {
   "cell_type": "code",
   "execution_count": 225,
   "id": "e271e24f",
   "metadata": {
    "scrolled": false
   },
   "outputs": [
    {
     "data": {
      "text/plain": [
       "Index(['Unnamed: 0', '_api', '_json', 'created_at', 'id', 'id_str',\n",
       "       'full_text', 'truncated', 'display_text_range', 'entities', 'metadata',\n",
       "       'source', 'source_url', 'in_reply_to_status_id',\n",
       "       'in_reply_to_status_id_str', 'in_reply_to_user_id',\n",
       "       'in_reply_to_user_id_str', 'in_reply_to_screen_name', 'author', 'user',\n",
       "       'geo', 'coordinates', 'place', 'contributors', 'retweeted_status',\n",
       "       'is_quote_status', 'retweet_count', 'favorite_count', 'favorited',\n",
       "       'retweeted', 'lang', 'extended_entities', 'possibly_sensitive',\n",
       "       'quoted_status_id', 'quoted_status_id_str', 'quoted_status',\n",
       "       'withheld_in_countries', 'author_id', 'author_id_str', 'author_name',\n",
       "       'author_screen_name', 'author_location', 'author_description',\n",
       "       'author_url', 'author_entities', 'author_protected',\n",
       "       'author_followers_count', 'author_friends_count', 'author_listed_count',\n",
       "       'author_created_at', 'author_favourites_count', 'author_utc_offset',\n",
       "       'author_time_zone', 'author_geo_enabled', 'author_verified',\n",
       "       'author_statuses_count', 'author_lang'],\n",
       "      dtype='object')"
      ]
     },
     "execution_count": 225,
     "metadata": {},
     "output_type": "execute_result"
    }
   ],
   "source": [
    "result.columns"
   ]
  },
  {
   "cell_type": "code",
   "execution_count": 226,
   "id": "9f65a86c",
   "metadata": {},
   "outputs": [],
   "source": [
    "def convertToNumber(string):\n",
    "    return int(''.join(i for i in string if i.isdigit()))"
   ]
  },
  {
   "cell_type": "code",
   "execution_count": 227,
   "id": "fbcdf9d8",
   "metadata": {},
   "outputs": [],
   "source": [
    "def calculateAgeOfAccount(string):\n",
    "    try:\n",
    "        date_list = string[18:].split(',')\n",
    "        created = date(int(date_list[0]), int(date_list[1]), int(date_list[2]))\n",
    "        now = date.today()\n",
    "        delta = now - created\n",
    "        return delta.days\n",
    "    except:\n",
    "        return 0"
   ]
  },
  {
   "cell_type": "code",
   "execution_count": 228,
   "id": "80ac1d13",
   "metadata": {},
   "outputs": [],
   "source": [
    "def checkPublicHoliday(date):\n",
    "    us_holidays = holidays.Pakistan()\n",
    "    holiday_name = us_holidays.get(date)\n",
    "    if holiday_name != None: \n",
    "        return True\n",
    "    else:\n",
    "        return False"
   ]
  },
  {
   "cell_type": "code",
   "execution_count": 229,
   "id": "d334a080",
   "metadata": {},
   "outputs": [],
   "source": [
    "def checkWeekend(date1):\n",
    "    date1 = date1.replace('-', '')\n",
    "    weekno = datetime.datetime.strptime(date1, \"%Y%m%d\").date().weekday()\n",
    "    if weekno < 5:\n",
    "        return False\n",
    "    else:\n",
    "        return True"
   ]
  },
  {
   "cell_type": "code",
   "execution_count": 230,
   "id": "53c260ed",
   "metadata": {},
   "outputs": [],
   "source": [
    "def checkEve(time):\n",
    "    time_list = time.split(':')\n",
    "    if int(time_list[0]) >= 18 and int(time_list[0]) <= 21:\n",
    "        return True\n",
    "    return False"
   ]
  },
  {
   "cell_type": "code",
   "execution_count": 231,
   "id": "4be58a48",
   "metadata": {},
   "outputs": [],
   "source": [
    "def checkNoon(time):\n",
    "    time_list = time.split(':')\n",
    "    if int(time_list[0]) >= 11 and int(time_list[0]) <= 13:\n",
    "        return True\n",
    "    return False"
   ]
  },
  {
   "cell_type": "code",
   "execution_count": 232,
   "id": "9edbf685",
   "metadata": {},
   "outputs": [],
   "source": [
    "def checkUperWords(string):\n",
    "    string_list = string.split(' ')\n",
    "    for i in string_list:\n",
    "        if i.isupper():\n",
    "            return True\n",
    "    return False"
   ]
  },
  {
   "cell_type": "code",
   "execution_count": 233,
   "id": "19c3b7b8",
   "metadata": {},
   "outputs": [],
   "source": [
    "def containNumbers(inputString):\n",
    "    return any(char.isdigit() for char in inputString)"
   ]
  },
  {
   "cell_type": "code",
   "execution_count": 234,
   "id": "e0cf4bf6",
   "metadata": {},
   "outputs": [],
   "source": [
    "def containExclamation(inputString):\n",
    "    return \"!\" in inputString"
   ]
  },
  {
   "cell_type": "code",
   "execution_count": 235,
   "id": "368a4c8c",
   "metadata": {},
   "outputs": [],
   "source": [
    "def containRTTerm(inputString):\n",
    "    return \"RT\" in inputString"
   ]
  },
  {
   "cell_type": "code",
   "execution_count": 236,
   "id": "ababb68b",
   "metadata": {},
   "outputs": [],
   "source": [
    "def containUserMentioned(inputString):\n",
    "    return \"@\" in inputString"
   ]
  },
  {
   "cell_type": "code",
   "execution_count": 237,
   "id": "f01fbbc9",
   "metadata": {},
   "outputs": [],
   "source": [
    "def ContainRTSuggestion(inputString):\n",
    "    return \"RT Pls\" in inputString or \"RT Please\" in inputString or \"RT for\" in inputString or \"RT For\" in inputString"
   ]
  },
  {
   "cell_type": "code",
   "execution_count": 238,
   "id": "d29a4bb2",
   "metadata": {},
   "outputs": [],
   "source": [
    "def containUrl(inputString):\n",
    "    return \"http\" in inputString"
   ]
  },
  {
   "cell_type": "code",
   "execution_count": 239,
   "id": "d9363601",
   "metadata": {},
   "outputs": [],
   "source": [
    "def containHashtag(inputString):\n",
    "    return \"#\" in inputString"
   ]
  },
  {
   "cell_type": "code",
   "execution_count": 240,
   "id": "587f6620",
   "metadata": {},
   "outputs": [],
   "source": [
    "def LengthBetween70And100(inputString):\n",
    "    if len(inputString) >= 70 and len(inputString) <= 100:\n",
    "        return True\n",
    "    return False"
   ]
  },
  {
   "cell_type": "code",
   "execution_count": 241,
   "id": "b3b5056a",
   "metadata": {},
   "outputs": [],
   "source": [
    "def Length(inputString):\n",
    "    return len(inputString)"
   ]
  },
  {
   "cell_type": "code",
   "execution_count": 242,
   "id": "2a2dcd1e",
   "metadata": {
    "scrolled": true
   },
   "outputs": [],
   "source": [
    "final = pd.DataFrame()"
   ]
  },
  {
   "cell_type": "code",
   "execution_count": 243,
   "id": "cf903b5f",
   "metadata": {},
   "outputs": [],
   "source": [
    "No_of_followers_list = []\n",
    "for i in range(len(result)):\n",
    "    No_of_followers_list.append(convertToNumber(result['author_followers_count'][i]))"
   ]
  },
  {
   "cell_type": "code",
   "execution_count": 244,
   "id": "058d9832",
   "metadata": {},
   "outputs": [],
   "source": [
    "final['No_of_followers'] = No_of_followers_list"
   ]
  },
  {
   "cell_type": "code",
   "execution_count": 245,
   "id": "07839dab",
   "metadata": {},
   "outputs": [],
   "source": [
    "Age_of_account_list = []\n",
    "for i in range(len(result)):\n",
    "    Age_of_account_list.append(calculateAgeOfAccount(result['author_created_at'][i]))"
   ]
  },
  {
   "cell_type": "code",
   "execution_count": 246,
   "id": "9a65d30b",
   "metadata": {},
   "outputs": [],
   "source": [
    "final['Age_of_account'] = Age_of_account_list"
   ]
  },
  {
   "cell_type": "code",
   "execution_count": 247,
   "id": "9b218ef1",
   "metadata": {},
   "outputs": [],
   "source": [
    "No_of_favourite_list = []\n",
    "for i in range(len(result)):\n",
    "    No_of_favourite_list.append(convertToNumber(result['author_favourites_count'][i]))"
   ]
  },
  {
   "cell_type": "code",
   "execution_count": 248,
   "id": "5254ba73",
   "metadata": {},
   "outputs": [],
   "source": [
    "final['No_of_favourite'] = No_of_favourite_list"
   ]
  },
  {
   "cell_type": "code",
   "execution_count": 249,
   "id": "e3731d17",
   "metadata": {},
   "outputs": [],
   "source": [
    "User_name_len_list = []\n",
    "for i in range(len(result)):\n",
    "    User_name_len_list.append(len(result['author_name'][i]))"
   ]
  },
  {
   "cell_type": "code",
   "execution_count": 250,
   "id": "9bf097f4",
   "metadata": {},
   "outputs": [],
   "source": [
    "final['User_name_len'] = User_name_len_list"
   ]
  },
  {
   "cell_type": "code",
   "execution_count": 251,
   "id": "8a357a64",
   "metadata": {},
   "outputs": [],
   "source": [
    "Is_post_at_hol_list = []\n",
    "for i in range(len(result)):\n",
    "    Is_post_at_hol_list.append(checkPublicHoliday(result['created_at'][i].split(' ')[0]))"
   ]
  },
  {
   "cell_type": "code",
   "execution_count": 252,
   "id": "88952e4f",
   "metadata": {},
   "outputs": [],
   "source": [
    "final['Is_post_at_hol'] = Is_post_at_hol_list"
   ]
  },
  {
   "cell_type": "code",
   "execution_count": 253,
   "id": "17a26ff5",
   "metadata": {},
   "outputs": [],
   "source": [
    "Is_post_at_wee_list = []\n",
    "for i in range(len(result)):\n",
    "    Is_post_at_wee_list.append(checkWeekend(result['created_at'][i].split(' ')[0]))"
   ]
  },
  {
   "cell_type": "code",
   "execution_count": 254,
   "id": "43e74d90",
   "metadata": {},
   "outputs": [],
   "source": [
    "final['Is_post_at_wee'] = Is_post_at_wee_list"
   ]
  },
  {
   "cell_type": "code",
   "execution_count": 255,
   "id": "118e49f0",
   "metadata": {},
   "outputs": [],
   "source": [
    "Is_post_at_noon_list = []\n",
    "for i in range(len(result)):\n",
    "    Is_post_at_noon_list.append(checkNoon(result['created_at'][i].split(' ')[1]))"
   ]
  },
  {
   "cell_type": "code",
   "execution_count": 256,
   "id": "2482bda3",
   "metadata": {},
   "outputs": [],
   "source": [
    "final['Is_post_at_noon'] = Is_post_at_noon_list"
   ]
  },
  {
   "cell_type": "code",
   "execution_count": 257,
   "id": "66f00334",
   "metadata": {},
   "outputs": [],
   "source": [
    "Is_post_at_eve_list = []\n",
    "for i in range(len(result)):\n",
    "    Is_post_at_eve_list.append(checkNoon(result['created_at'][i].split(' ')[1]))"
   ]
  },
  {
   "cell_type": "code",
   "execution_count": 258,
   "id": "a2b29d7e",
   "metadata": {},
   "outputs": [],
   "source": [
    "final['Is_post_at_eve'] = Is_post_at_eve_list"
   ]
  },
  {
   "cell_type": "code",
   "execution_count": 259,
   "id": "be907433",
   "metadata": {},
   "outputs": [],
   "source": [
    "Contain_upper_list = []\n",
    "for i in range(len(result)):\n",
    "    Contain_upper_list.append(checkUperWords(result['full_text'][i]))"
   ]
  },
  {
   "cell_type": "code",
   "execution_count": 260,
   "id": "c127b78e",
   "metadata": {},
   "outputs": [],
   "source": [
    "final['Contain_upper'] = Contain_upper_list"
   ]
  },
  {
   "cell_type": "code",
   "execution_count": 261,
   "id": "2c9c6b54",
   "metadata": {},
   "outputs": [],
   "source": [
    "Contain_numbers_list = []\n",
    "for i in range(len(result)):\n",
    "    Contain_numbers_list.append(containNumbers(result['full_text'][i]))"
   ]
  },
  {
   "cell_type": "code",
   "execution_count": 262,
   "id": "55f5ddaf",
   "metadata": {},
   "outputs": [],
   "source": [
    "final['Contain_numbers'] = Contain_numbers_list"
   ]
  },
  {
   "cell_type": "code",
   "execution_count": 263,
   "id": "ca89f3b3",
   "metadata": {},
   "outputs": [],
   "source": [
    "Contain_excl_list = []\n",
    "for i in range(len(result)):\n",
    "    Contain_excl_list.append(containExclamation(result['full_text'][i]))"
   ]
  },
  {
   "cell_type": "code",
   "execution_count": 264,
   "id": "58987b1a",
   "metadata": {},
   "outputs": [],
   "source": [
    "final['Contain_excl'] = Contain_excl_list"
   ]
  },
  {
   "cell_type": "code",
   "execution_count": 265,
   "id": "9193328a",
   "metadata": {},
   "outputs": [],
   "source": [
    "Contain_rt_term_list = []\n",
    "for i in range(len(result)):\n",
    "    Contain_rt_term_list.append(containRTTerm(result['full_text'][i]))"
   ]
  },
  {
   "cell_type": "code",
   "execution_count": 266,
   "id": "afa4f870",
   "metadata": {},
   "outputs": [],
   "source": [
    "final['Contain_rt_term'] = Contain_rt_term_list"
   ]
  },
  {
   "cell_type": "code",
   "execution_count": 267,
   "id": "e30c6c0b",
   "metadata": {},
   "outputs": [],
   "source": [
    "Con_user_mentioned_list = []\n",
    "for i in range(len(result)):\n",
    "    Con_user_mentioned_list.append(containUserMentioned(result['full_text'][i]))"
   ]
  },
  {
   "cell_type": "code",
   "execution_count": 268,
   "id": "8a26abbb",
   "metadata": {},
   "outputs": [],
   "source": [
    "final['Con_user_mentioned_list'] = Con_user_mentioned_list"
   ]
  },
  {
   "cell_type": "code",
   "execution_count": 269,
   "id": "30310141",
   "metadata": {},
   "outputs": [],
   "source": [
    "Contain_rt_sugges_list = []\n",
    "for i in range(len(result)):\n",
    "    Contain_rt_sugges_list.append(ContainRTSuggestion(result['full_text'][i]))"
   ]
  },
  {
   "cell_type": "code",
   "execution_count": 270,
   "id": "bf9000d6",
   "metadata": {},
   "outputs": [],
   "source": [
    "final['Contain_rt_sugges'] = Contain_rt_sugges_list"
   ]
  },
  {
   "cell_type": "code",
   "execution_count": 271,
   "id": "e6d5fa4a",
   "metadata": {},
   "outputs": [],
   "source": [
    "Contain_URL_list = []\n",
    "for i in range(len(result)):\n",
    "    Contain_URL_list.append(containUrl(result['full_text'][i]))"
   ]
  },
  {
   "cell_type": "code",
   "execution_count": 272,
   "id": "f0f68873",
   "metadata": {},
   "outputs": [],
   "source": [
    "final['Contain_URL'] = Contain_URL_list"
   ]
  },
  {
   "cell_type": "code",
   "execution_count": 273,
   "id": "31220df2",
   "metadata": {},
   "outputs": [],
   "source": [
    "Contain_hashtag_list = []\n",
    "for i in range(len(result)):\n",
    "    Contain_hashtag_list.append(containHashtag(result['full_text'][i]))"
   ]
  },
  {
   "cell_type": "code",
   "execution_count": 274,
   "id": "abeacc33",
   "metadata": {},
   "outputs": [],
   "source": [
    "final['Contain_hashtag'] = Contain_hashtag_list"
   ]
  },
  {
   "cell_type": "code",
   "execution_count": 275,
   "id": "3fcd08ff",
   "metadata": {},
   "outputs": [],
   "source": [
    "Opt_length_list = []\n",
    "for i in range(len(result)):\n",
    "    Opt_length_list.append(LengthBetween70And100(result['full_text'][i]))"
   ]
  },
  {
   "cell_type": "code",
   "execution_count": 276,
   "id": "0b1deea9",
   "metadata": {},
   "outputs": [],
   "source": [
    "final['Opt_length'] = Opt_length_list"
   ]
  },
  {
   "cell_type": "code",
   "execution_count": 277,
   "id": "9bb4d3b4",
   "metadata": {},
   "outputs": [],
   "source": [
    "Len_of_text_list = []\n",
    "for i in range(len(result)):\n",
    "    Len_of_text_list.append(Length(result['full_text'][i]))"
   ]
  },
  {
   "cell_type": "code",
   "execution_count": 278,
   "id": "09e79d70",
   "metadata": {},
   "outputs": [],
   "source": [
    "final['Len_of_text_list'] = Len_of_text_list"
   ]
  },
  {
   "cell_type": "code",
   "execution_count": 279,
   "id": "15ae3faa",
   "metadata": {},
   "outputs": [],
   "source": [
    "final['retweet_count'] = result['retweet_count']"
   ]
  },
  {
   "cell_type": "code",
   "execution_count": 280,
   "id": "f5987d82",
   "metadata": {},
   "outputs": [],
   "source": [
    "X_train, X_test, y_train, y_test = train_test_split(final.loc[:, final.columns != 'retweet_count'], final['retweet_count'], random_state=1000, test_size=0.20, shuffle=True)"
   ]
  },
  {
   "cell_type": "code",
   "execution_count": 281,
   "id": "b9bef42f",
   "metadata": {},
   "outputs": [],
   "source": [
    "clf = RandomForestClassifier(max_depth=26, random_state=2)"
   ]
  },
  {
   "cell_type": "code",
   "execution_count": 282,
   "id": "76242428",
   "metadata": {},
   "outputs": [
    {
     "data": {
      "text/html": [
       "<style>#sk-container-id-10 {color: black;background-color: white;}#sk-container-id-10 pre{padding: 0;}#sk-container-id-10 div.sk-toggleable {background-color: white;}#sk-container-id-10 label.sk-toggleable__label {cursor: pointer;display: block;width: 100%;margin-bottom: 0;padding: 0.3em;box-sizing: border-box;text-align: center;}#sk-container-id-10 label.sk-toggleable__label-arrow:before {content: \"▸\";float: left;margin-right: 0.25em;color: #696969;}#sk-container-id-10 label.sk-toggleable__label-arrow:hover:before {color: black;}#sk-container-id-10 div.sk-estimator:hover label.sk-toggleable__label-arrow:before {color: black;}#sk-container-id-10 div.sk-toggleable__content {max-height: 0;max-width: 0;overflow: hidden;text-align: left;background-color: #f0f8ff;}#sk-container-id-10 div.sk-toggleable__content pre {margin: 0.2em;color: black;border-radius: 0.25em;background-color: #f0f8ff;}#sk-container-id-10 input.sk-toggleable__control:checked~div.sk-toggleable__content {max-height: 200px;max-width: 100%;overflow: auto;}#sk-container-id-10 input.sk-toggleable__control:checked~label.sk-toggleable__label-arrow:before {content: \"▾\";}#sk-container-id-10 div.sk-estimator input.sk-toggleable__control:checked~label.sk-toggleable__label {background-color: #d4ebff;}#sk-container-id-10 div.sk-label input.sk-toggleable__control:checked~label.sk-toggleable__label {background-color: #d4ebff;}#sk-container-id-10 input.sk-hidden--visually {border: 0;clip: rect(1px 1px 1px 1px);clip: rect(1px, 1px, 1px, 1px);height: 1px;margin: -1px;overflow: hidden;padding: 0;position: absolute;width: 1px;}#sk-container-id-10 div.sk-estimator {font-family: monospace;background-color: #f0f8ff;border: 1px dotted black;border-radius: 0.25em;box-sizing: border-box;margin-bottom: 0.5em;}#sk-container-id-10 div.sk-estimator:hover {background-color: #d4ebff;}#sk-container-id-10 div.sk-parallel-item::after {content: \"\";width: 100%;border-bottom: 1px solid gray;flex-grow: 1;}#sk-container-id-10 div.sk-label:hover label.sk-toggleable__label {background-color: #d4ebff;}#sk-container-id-10 div.sk-serial::before {content: \"\";position: absolute;border-left: 1px solid gray;box-sizing: border-box;top: 0;bottom: 0;left: 50%;z-index: 0;}#sk-container-id-10 div.sk-serial {display: flex;flex-direction: column;align-items: center;background-color: white;padding-right: 0.2em;padding-left: 0.2em;position: relative;}#sk-container-id-10 div.sk-item {position: relative;z-index: 1;}#sk-container-id-10 div.sk-parallel {display: flex;align-items: stretch;justify-content: center;background-color: white;position: relative;}#sk-container-id-10 div.sk-item::before, #sk-container-id-10 div.sk-parallel-item::before {content: \"\";position: absolute;border-left: 1px solid gray;box-sizing: border-box;top: 0;bottom: 0;left: 50%;z-index: -1;}#sk-container-id-10 div.sk-parallel-item {display: flex;flex-direction: column;z-index: 1;position: relative;background-color: white;}#sk-container-id-10 div.sk-parallel-item:first-child::after {align-self: flex-end;width: 50%;}#sk-container-id-10 div.sk-parallel-item:last-child::after {align-self: flex-start;width: 50%;}#sk-container-id-10 div.sk-parallel-item:only-child::after {width: 0;}#sk-container-id-10 div.sk-dashed-wrapped {border: 1px dashed gray;margin: 0 0.4em 0.5em 0.4em;box-sizing: border-box;padding-bottom: 0.4em;background-color: white;}#sk-container-id-10 div.sk-label label {font-family: monospace;font-weight: bold;display: inline-block;line-height: 1.2em;}#sk-container-id-10 div.sk-label-container {text-align: center;}#sk-container-id-10 div.sk-container {/* jupyter's `normalize.less` sets `[hidden] { display: none; }` but bootstrap.min.css set `[hidden] { display: none !important; }` so we also need the `!important` here to be able to override the default hidden behavior on the sphinx rendered scikit-learn.org. See: https://github.com/scikit-learn/scikit-learn/issues/21755 */display: inline-block !important;position: relative;}#sk-container-id-10 div.sk-text-repr-fallback {display: none;}</style><div id=\"sk-container-id-10\" class=\"sk-top-container\"><div class=\"sk-text-repr-fallback\"><pre>RandomForestClassifier(max_depth=26, random_state=2)</pre><b>In a Jupyter environment, please rerun this cell to show the HTML representation or trust the notebook. <br />On GitHub, the HTML representation is unable to render, please try loading this page with nbviewer.org.</b></div><div class=\"sk-container\" hidden><div class=\"sk-item\"><div class=\"sk-estimator sk-toggleable\"><input class=\"sk-toggleable__control sk-hidden--visually\" id=\"sk-estimator-id-10\" type=\"checkbox\" checked><label for=\"sk-estimator-id-10\" class=\"sk-toggleable__label sk-toggleable__label-arrow\">RandomForestClassifier</label><div class=\"sk-toggleable__content\"><pre>RandomForestClassifier(max_depth=26, random_state=2)</pre></div></div></div></div></div>"
      ],
      "text/plain": [
       "RandomForestClassifier(max_depth=26, random_state=2)"
      ]
     },
     "execution_count": 282,
     "metadata": {},
     "output_type": "execute_result"
    }
   ],
   "source": [
    "clf.fit(X_train, y_train)"
   ]
  },
  {
   "cell_type": "code",
   "execution_count": 283,
   "id": "ddfb4dd7",
   "metadata": {
    "scrolled": true
   },
   "outputs": [],
   "source": [
    "y_pred = clf.predict(X_test)"
   ]
  },
  {
   "cell_type": "code",
   "execution_count": 284,
   "id": "cc9c2d53",
   "metadata": {},
   "outputs": [],
   "source": [
    "X_test['predicted_retweet'] = y_pred"
   ]
  },
  {
   "cell_type": "code",
   "execution_count": 285,
   "id": "ec284511",
   "metadata": {},
   "outputs": [
    {
     "data": {
      "text/plain": [
       "Index(['No_of_followers', 'Age_of_account', 'No_of_favourite', 'User_name_len',\n",
       "       'Is_post_at_hol', 'Is_post_at_wee', 'Is_post_at_noon', 'Is_post_at_eve',\n",
       "       'Contain_upper', 'Contain_numbers', 'Contain_excl', 'Contain_rt_term',\n",
       "       'Con_user_mentioned_list', 'Contain_rt_sugges', 'Contain_URL',\n",
       "       'Contain_hashtag', 'Opt_length', 'Len_of_text_list',\n",
       "       'predicted_retweet'],\n",
       "      dtype='object')"
      ]
     },
     "execution_count": 285,
     "metadata": {},
     "output_type": "execute_result"
    }
   ],
   "source": [
    "X_test.columns"
   ]
  },
  {
   "cell_type": "code",
   "execution_count": 286,
   "id": "522b06bf",
   "metadata": {
    "scrolled": false
   },
   "outputs": [
    {
     "data": {
      "text/plain": [
       "344.3251748251748"
      ]
     },
     "execution_count": 286,
     "metadata": {},
     "output_type": "execute_result"
    }
   ],
   "source": [
    "mean_squared_error(y_test, y_pred)"
   ]
  },
  {
   "cell_type": "code",
   "execution_count": 288,
   "id": "1797e4ed",
   "metadata": {},
   "outputs": [],
   "source": [
    "y_test = list(y_test)"
   ]
  },
  {
   "cell_type": "code",
   "execution_count": 289,
   "id": "54b3896e",
   "metadata": {},
   "outputs": [],
   "source": [
    "acc = 0\n",
    "for i in range(len(y_test)):\n",
    "    if y_pred[i] == y_test[i]:\n",
    "        acc = acc + 1"
   ]
  },
  {
   "cell_type": "code",
   "execution_count": 290,
   "id": "cbb2c293",
   "metadata": {},
   "outputs": [
    {
     "data": {
      "text/plain": [
       "46.15384615384615"
      ]
     },
     "execution_count": 290,
     "metadata": {},
     "output_type": "execute_result"
    }
   ],
   "source": [
    "(acc/len(y_test)*100)"
   ]
  },
  {
   "cell_type": "code",
   "execution_count": 291,
   "id": "a523e11c",
   "metadata": {},
   "outputs": [],
   "source": [
    "acc = 0\n",
    "for i in range(len(y_test)):\n",
    "    if y_pred[i] in range(y_test[i]-10, y_test[i]+10):\n",
    "        acc = acc + 1"
   ]
  },
  {
   "cell_type": "code",
   "execution_count": 292,
   "id": "3968b2c0",
   "metadata": {},
   "outputs": [
    {
     "data": {
      "text/plain": [
       "73.77622377622379"
      ]
     },
     "execution_count": 292,
     "metadata": {},
     "output_type": "execute_result"
    }
   ],
   "source": [
    "(acc/len(y_test)*100)"
   ]
  },
  {
   "cell_type": "code",
   "execution_count": 94,
   "id": "d5ce5a81",
   "metadata": {},
   "outputs": [
    {
     "data": {
      "text/plain": [
       "array([  0,   7,  32,  23,   4,  18,  33,  24,   0,  11,   1,   0,  23,\n",
       "         7,  26,  22,  24,  21,   1,  26,  11,   0,  23,  32,   0,   5,\n",
       "         8,   8,  10,  28,   9,  16,  83,   1,   0,   0,  21,  23,  83,\n",
       "        11,  42,   0,   4,   7,   0,  42,   0,  25,  21,   2,   2,   0,\n",
       "        24,  25,   0,  22,   0,   0,   0,  15,   0,  12,   0,   7,  33,\n",
       "        44,   6,   6,  22,  42,   0,   0,  21,   8,   1,  15,   2,  24,\n",
       "         0,  33,  33,  23,   0,  33,   1,   0,   8,  22,   2,   1,  19,\n",
       "         1,  22,   4,  24,  33,  15,  23,  23,  21,   4,  83,  19,  33,\n",
       "        18,   0,   4,   0,  83,  42,  21,  32,   0,  27,  16,   5,   2,\n",
       "         0,   5,   0,   0,  22,   4,   2,  33,   4,   4,   0,  25,  83,\n",
       "         0,  23,   4,   3,   2,  19,  33,  28,  16,   5,  11,  10,  26,\n",
       "         0,   0,   0,   7,   0,  15,   1,   8,   1,  42,  18,  83,  32,\n",
       "         0,  11,   0,   0,   3,   1,  10,   4,   0,  83,   7,   0,  15,\n",
       "       197,   0,  24,   9,  83,  22,  33,  83,  42,  21,  15,   6,   1,\n",
       "         2,   2,  25,   0,  44,   0,  28,  24,  16,  15,  32,  28,  44,\n",
       "        21,   3,   0,  10,  19,  16,   8,  22,  83,  21,  24,   0,  12,\n",
       "        23,   0,   0,  15,  25,   0,   6,   4,  32,   8,   0,   8,  11,\n",
       "         0,   0,   6,   8,   1,   6,  18,  21,  10,  19,  22,  33,   0,\n",
       "         0,   0,   4,  32,  24,   3,  10,  42,   4,  24,  19,  18,   0,\n",
       "         0,  83,   1,  19,   0,   7,   0,   5,   4,  18,  23,  42,  27,\n",
       "         4,  83,  23,   0,  15,  28,  22,   1,   0,  21,  23,   0,   0,\n",
       "         1,  21,  10,  10,  25,  83,  24,  83,   0,  15,  10,   1,   4],\n",
       "      dtype=int64)"
      ]
     },
     "execution_count": 94,
     "metadata": {},
     "output_type": "execute_result"
    }
   ],
   "source": [
    "y_pred"
   ]
  },
  {
   "cell_type": "code",
   "execution_count": null,
   "id": "de95f637",
   "metadata": {},
   "outputs": [],
   "source": []
  }
 ],
 "metadata": {
  "kernelspec": {
   "display_name": "Python 3 (ipykernel)",
   "language": "python",
   "name": "python3"
  },
  "language_info": {
   "codemirror_mode": {
    "name": "ipython",
    "version": 3
   },
   "file_extension": ".py",
   "mimetype": "text/x-python",
   "name": "python",
   "nbconvert_exporter": "python",
   "pygments_lexer": "ipython3",
   "version": "3.10.5"
  }
 },
 "nbformat": 4,
 "nbformat_minor": 5
}
